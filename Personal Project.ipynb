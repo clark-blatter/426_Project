{
 "cells": [
  {
   "cell_type": "markdown",
   "metadata": {},
   "source": [
    "# Introduction"
   ]
  },
  {
   "attachments": {},
   "cell_type": "markdown",
   "metadata": {},
   "source": [
    "   There are a plethora of different data types in Python. Some data types are not compatible with others when trying to run a function and often times you will need to convert the type of a variable so that you can interact with it in the way you want. Because there are many different types of data, it is useful to know what packages are the best to use to help you accomplish the task at hand. Time data is particularly interesting to work with because the units are not base 10 like most data you may work with. Hours, minutes, seconds, months, days, and years all have different base units which can make interacting with them in an interpretable way tricky. I ran into this problem as I was working with a data set for a 5K/10K run that is annually held in Provo, UT. One feature we were interested in learning more about was finding out the difference between when the race started and when the individual crossed the starting line. Interacting with the data and putting it into a working format was quite a challenge for me and that inspired me to learn more about datetime objects and timedeltas. Over the course of this tutorial I will show you how to change strings into datetime objects and then show you how you can interact with datetime objects using a semi-cleaned version of the dataset I was given."
   ]
  },
  {
   "cell_type": "markdown",
   "metadata": {},
   "source": [
    "# Tutorial"
   ]
  },
  {
   "cell_type": "code",
   "execution_count": 97,
   "metadata": {},
   "outputs": [],
   "source": [
    "import pandas as pd\n",
    "import numpy as np\n",
    "import seaborn as sns"
   ]
  },
  {
   "cell_type": "code",
   "execution_count": 98,
   "metadata": {},
   "outputs": [],
   "source": [
    "# Read in the semi-cleaned data\n",
    "temp2 = pd.read_csv('project_data.csv')"
   ]
  },
  {
   "cell_type": "code",
   "execution_count": 99,
   "metadata": {},
   "outputs": [
    {
     "data": {
      "text/html": [
       "<div>\n",
       "<style scoped>\n",
       "    .dataframe tbody tr th:only-of-type {\n",
       "        vertical-align: middle;\n",
       "    }\n",
       "\n",
       "    .dataframe tbody tr th {\n",
       "        vertical-align: top;\n",
       "    }\n",
       "\n",
       "    .dataframe thead th {\n",
       "        text-align: right;\n",
       "    }\n",
       "</style>\n",
       "<table border=\"1\" class=\"dataframe\">\n",
       "  <thead>\n",
       "    <tr style=\"text-align: right;\">\n",
       "      <th></th>\n",
       "      <th>bib</th>\n",
       "      <th>name</th>\n",
       "      <th>race</th>\n",
       "      <th>division</th>\n",
       "      <th>city</th>\n",
       "      <th>state</th>\n",
       "      <th>chip_time</th>\n",
       "      <th>gun_time</th>\n",
       "      <th>pace</th>\n",
       "      <th>overall_place</th>\n",
       "      <th>gender_place</th>\n",
       "      <th>division_place</th>\n",
       "    </tr>\n",
       "  </thead>\n",
       "  <tbody>\n",
       "    <tr>\n",
       "      <td>0</td>\n",
       "      <td>507</td>\n",
       "      <td>Joshua Frei</td>\n",
       "      <td>5k</td>\n",
       "      <td>M top-fin</td>\n",
       "      <td>Rochester</td>\n",
       "      <td>MN</td>\n",
       "      <td>1900-01-01 00:17:27</td>\n",
       "      <td>1900-01-01 00:17:27</td>\n",
       "      <td>5:37/M</td>\n",
       "      <td>1 of 781</td>\n",
       "      <td>1 of 346</td>\n",
       "      <td>1 of 1</td>\n",
       "    </tr>\n",
       "    <tr>\n",
       "      <td>1</td>\n",
       "      <td>781</td>\n",
       "      <td>Wesley Porter</td>\n",
       "      <td>5k</td>\n",
       "      <td>M 20-29</td>\n",
       "      <td>Orem</td>\n",
       "      <td>UT</td>\n",
       "      <td>1900-01-01 00:17:30</td>\n",
       "      <td>1900-01-01 00:17:33</td>\n",
       "      <td>5:39/M</td>\n",
       "      <td>2 of 781</td>\n",
       "      <td>2 of 346</td>\n",
       "      <td>1 of 160</td>\n",
       "    </tr>\n",
       "    <tr>\n",
       "      <td>2</td>\n",
       "      <td>441</td>\n",
       "      <td>Jeffrey Coombs</td>\n",
       "      <td>5k</td>\n",
       "      <td>M 20-29</td>\n",
       "      <td>Provo</td>\n",
       "      <td>UT</td>\n",
       "      <td>1900-01-01 00:17:34</td>\n",
       "      <td>1900-01-01 00:17:36</td>\n",
       "      <td>5:40/M</td>\n",
       "      <td>3 of 781</td>\n",
       "      <td>3 of 346</td>\n",
       "      <td>2 of 160</td>\n",
       "    </tr>\n",
       "    <tr>\n",
       "      <td>3</td>\n",
       "      <td>442</td>\n",
       "      <td>John Coombs</td>\n",
       "      <td>5k</td>\n",
       "      <td>M 20-29</td>\n",
       "      <td>Rifle</td>\n",
       "      <td>CO</td>\n",
       "      <td>1900-01-01 00:18:07</td>\n",
       "      <td>1900-01-01 00:18:09</td>\n",
       "      <td>5:51/M</td>\n",
       "      <td>4 of 781</td>\n",
       "      <td>4 of 346</td>\n",
       "      <td>3 of 160</td>\n",
       "    </tr>\n",
       "    <tr>\n",
       "      <td>4</td>\n",
       "      <td>1074</td>\n",
       "      <td>Brian Grover</td>\n",
       "      <td>5k</td>\n",
       "      <td>M 20-29</td>\n",
       "      <td>Provo</td>\n",
       "      <td>UT</td>\n",
       "      <td>1900-01-01 00:18:09</td>\n",
       "      <td>1900-01-01 00:18:11</td>\n",
       "      <td>5:51/M</td>\n",
       "      <td>5 of 781</td>\n",
       "      <td>5 of 346</td>\n",
       "      <td>4 of 160</td>\n",
       "    </tr>\n",
       "  </tbody>\n",
       "</table>\n",
       "</div>"
      ],
      "text/plain": [
       "    bib              name race     division       city state  \\\n",
       "0   507      Joshua Frei    5k  M top-fin    Rochester    MN   \n",
       "1   781    Wesley Porter    5k    M 20-29         Orem    UT   \n",
       "2   441   Jeffrey Coombs    5k    M 20-29        Provo    UT   \n",
       "3   442      John Coombs    5k    M 20-29        Rifle    CO   \n",
       "4  1074     Brian Grover    5k    M 20-29        Provo    UT   \n",
       "\n",
       "             chip_time             gun_time    pace overall_place  \\\n",
       "0  1900-01-01 00:17:27  1900-01-01 00:17:27  5:37/M      1 of 781   \n",
       "1  1900-01-01 00:17:30  1900-01-01 00:17:33  5:39/M      2 of 781   \n",
       "2  1900-01-01 00:17:34  1900-01-01 00:17:36  5:40/M      3 of 781   \n",
       "3  1900-01-01 00:18:07  1900-01-01 00:18:09  5:51/M      4 of 781   \n",
       "4  1900-01-01 00:18:09  1900-01-01 00:18:11  5:51/M      5 of 781   \n",
       "\n",
       "  gender_place division_place  \n",
       "0     1 of 346         1 of 1  \n",
       "1     2 of 346       1 of 160  \n",
       "2     3 of 346       2 of 160  \n",
       "3     4 of 346       3 of 160  \n",
       "4     5 of 346       4 of 160  "
      ]
     },
     "execution_count": 99,
     "metadata": {},
     "output_type": "execute_result"
    }
   ],
   "source": [
    "temp2.head()"
   ]
  },
  {
   "cell_type": "markdown",
   "metadata": {},
   "source": [
    "The features we're interested in are chip_time and gun_time. Currently they are not in the right format but I have split up the chip_time and gun_time columns into columns based on the correct hour, minute, and second so that we can use pd.to_datetime to create our new datetime object."
   ]
  },
  {
   "cell_type": "code",
   "execution_count": 100,
   "metadata": {},
   "outputs": [
    {
     "data": {
      "text/plain": [
       "bib                int64\n",
       "name              object\n",
       "race              object\n",
       "division          object\n",
       "city              object\n",
       "state             object\n",
       "chip_time         object\n",
       "gun_time          object\n",
       "pace              object\n",
       "overall_place     object\n",
       "gender_place      object\n",
       "division_place    object\n",
       "dtype: object"
      ]
     },
     "execution_count": 100,
     "metadata": {},
     "output_type": "execute_result"
    }
   ],
   "source": [
    "temp2.dtypes"
   ]
  },
  {
   "cell_type": "markdown",
   "metadata": {},
   "source": [
    "Now with our data cleaned and chip_time and gun_time are finally datetime objects we can now start interacting with the data in the way we want. Because chip_time and gun_time are in the same format, the next step is to create a new feature which will show the difference between when the gun went off and when the individual crossed the starting line which I will call \"diff_time\"."
   ]
  },
  {
   "cell_type": "code",
   "execution_count": 101,
   "metadata": {},
   "outputs": [],
   "source": [
    "# Convert this to time data\n",
    "temp2['chip_time'] = pd.to_datetime(temp2.chip_time)\n",
    "temp2['gun_time'] = pd.to_datetime(temp2.gun_time)"
   ]
  },
  {
   "cell_type": "code",
   "execution_count": 102,
   "metadata": {},
   "outputs": [],
   "source": [
    "# Took me an eternity to realize that diff_time got converted to a time delta, made this difficult\n",
    "temp2['diff_time'] = temp2['gun_time'] - temp2['chip_time']"
   ]
  },
  {
   "cell_type": "markdown",
   "metadata": {},
   "source": [
    "One thing you may have noticed is the arbitrary year month and day at the beginning of our times that wasn't there before, we don't want that so lets remove it."
   ]
  },
  {
   "cell_type": "code",
   "execution_count": 103,
   "metadata": {},
   "outputs": [],
   "source": [
    "# Get rid of those year month days from the columns\n",
    "temp2['chip_time'] = temp2['chip_time'].dt.strftime('%H:%M:%S')\n",
    "temp2['gun_time'] = temp2['gun_time'].dt.strftime('%H:%M:%S')"
   ]
  },
  {
   "cell_type": "code",
   "execution_count": 104,
   "metadata": {},
   "outputs": [
    {
     "data": {
      "text/html": [
       "<div>\n",
       "<style scoped>\n",
       "    .dataframe tbody tr th:only-of-type {\n",
       "        vertical-align: middle;\n",
       "    }\n",
       "\n",
       "    .dataframe tbody tr th {\n",
       "        vertical-align: top;\n",
       "    }\n",
       "\n",
       "    .dataframe thead th {\n",
       "        text-align: right;\n",
       "    }\n",
       "</style>\n",
       "<table border=\"1\" class=\"dataframe\">\n",
       "  <thead>\n",
       "    <tr style=\"text-align: right;\">\n",
       "      <th></th>\n",
       "      <th>bib</th>\n",
       "      <th>name</th>\n",
       "      <th>race</th>\n",
       "      <th>division</th>\n",
       "      <th>city</th>\n",
       "      <th>state</th>\n",
       "      <th>chip_time</th>\n",
       "      <th>gun_time</th>\n",
       "      <th>pace</th>\n",
       "      <th>overall_place</th>\n",
       "      <th>gender_place</th>\n",
       "      <th>division_place</th>\n",
       "      <th>diff_time</th>\n",
       "    </tr>\n",
       "  </thead>\n",
       "  <tbody>\n",
       "    <tr>\n",
       "      <td>0</td>\n",
       "      <td>507</td>\n",
       "      <td>Joshua Frei</td>\n",
       "      <td>5k</td>\n",
       "      <td>M top-fin</td>\n",
       "      <td>Rochester</td>\n",
       "      <td>MN</td>\n",
       "      <td>00:17:27</td>\n",
       "      <td>00:17:27</td>\n",
       "      <td>5:37/M</td>\n",
       "      <td>1 of 781</td>\n",
       "      <td>1 of 346</td>\n",
       "      <td>1 of 1</td>\n",
       "      <td>00:00:00</td>\n",
       "    </tr>\n",
       "    <tr>\n",
       "      <td>1</td>\n",
       "      <td>781</td>\n",
       "      <td>Wesley Porter</td>\n",
       "      <td>5k</td>\n",
       "      <td>M 20-29</td>\n",
       "      <td>Orem</td>\n",
       "      <td>UT</td>\n",
       "      <td>00:17:30</td>\n",
       "      <td>00:17:33</td>\n",
       "      <td>5:39/M</td>\n",
       "      <td>2 of 781</td>\n",
       "      <td>2 of 346</td>\n",
       "      <td>1 of 160</td>\n",
       "      <td>00:00:03</td>\n",
       "    </tr>\n",
       "    <tr>\n",
       "      <td>2</td>\n",
       "      <td>441</td>\n",
       "      <td>Jeffrey Coombs</td>\n",
       "      <td>5k</td>\n",
       "      <td>M 20-29</td>\n",
       "      <td>Provo</td>\n",
       "      <td>UT</td>\n",
       "      <td>00:17:34</td>\n",
       "      <td>00:17:36</td>\n",
       "      <td>5:40/M</td>\n",
       "      <td>3 of 781</td>\n",
       "      <td>3 of 346</td>\n",
       "      <td>2 of 160</td>\n",
       "      <td>00:00:02</td>\n",
       "    </tr>\n",
       "    <tr>\n",
       "      <td>3</td>\n",
       "      <td>442</td>\n",
       "      <td>John Coombs</td>\n",
       "      <td>5k</td>\n",
       "      <td>M 20-29</td>\n",
       "      <td>Rifle</td>\n",
       "      <td>CO</td>\n",
       "      <td>00:18:07</td>\n",
       "      <td>00:18:09</td>\n",
       "      <td>5:51/M</td>\n",
       "      <td>4 of 781</td>\n",
       "      <td>4 of 346</td>\n",
       "      <td>3 of 160</td>\n",
       "      <td>00:00:02</td>\n",
       "    </tr>\n",
       "    <tr>\n",
       "      <td>4</td>\n",
       "      <td>1074</td>\n",
       "      <td>Brian Grover</td>\n",
       "      <td>5k</td>\n",
       "      <td>M 20-29</td>\n",
       "      <td>Provo</td>\n",
       "      <td>UT</td>\n",
       "      <td>00:18:09</td>\n",
       "      <td>00:18:11</td>\n",
       "      <td>5:51/M</td>\n",
       "      <td>5 of 781</td>\n",
       "      <td>5 of 346</td>\n",
       "      <td>4 of 160</td>\n",
       "      <td>00:00:02</td>\n",
       "    </tr>\n",
       "  </tbody>\n",
       "</table>\n",
       "</div>"
      ],
      "text/plain": [
       "    bib              name race     division       city state chip_time  \\\n",
       "0   507      Joshua Frei    5k  M top-fin    Rochester    MN  00:17:27   \n",
       "1   781    Wesley Porter    5k    M 20-29         Orem    UT  00:17:30   \n",
       "2   441   Jeffrey Coombs    5k    M 20-29        Provo    UT  00:17:34   \n",
       "3   442      John Coombs    5k    M 20-29        Rifle    CO  00:18:07   \n",
       "4  1074     Brian Grover    5k    M 20-29        Provo    UT  00:18:09   \n",
       "\n",
       "   gun_time    pace overall_place gender_place division_place diff_time  \n",
       "0  00:17:27  5:37/M      1 of 781     1 of 346         1 of 1  00:00:00  \n",
       "1  00:17:33  5:39/M      2 of 781     2 of 346       1 of 160  00:00:03  \n",
       "2  00:17:36  5:40/M      3 of 781     3 of 346       2 of 160  00:00:02  \n",
       "3  00:18:09  5:51/M      4 of 781     4 of 346       3 of 160  00:00:02  \n",
       "4  00:18:11  5:51/M      5 of 781     5 of 346       4 of 160  00:00:02  "
      ]
     },
     "execution_count": 104,
     "metadata": {},
     "output_type": "execute_result"
    }
   ],
   "source": [
    "temp2.head()"
   ]
  },
  {
   "cell_type": "markdown",
   "metadata": {},
   "source": [
    "We now want to look at our pace variable and our diff_time variable together on a graph, in order to do that we need to clean pace a little bit. One issue is that our diff_time is now a timedelta64 object which will not interact with datetime objects. A timedelta is a difference between two date, time, or datetime instances and is different than a datetime object. In order to be able to plot our diff_time column and our pace column we will need to covert pace into a timedelta."
   ]
  },
  {
   "cell_type": "code",
   "execution_count": 105,
   "metadata": {},
   "outputs": [],
   "source": [
    "temp2['pace'] = temp2['pace'].str[0:-2]"
   ]
  },
  {
   "cell_type": "code",
   "execution_count": 106,
   "metadata": {},
   "outputs": [
    {
     "data": {
      "text/plain": [
       "bib                         int64\n",
       "name                       object\n",
       "race                       object\n",
       "division                   object\n",
       "city                       object\n",
       "state                      object\n",
       "chip_time                  object\n",
       "gun_time                   object\n",
       "pace                       object\n",
       "overall_place              object\n",
       "gender_place               object\n",
       "division_place             object\n",
       "diff_time         timedelta64[ns]\n",
       "dtype: object"
      ]
     },
     "execution_count": 106,
     "metadata": {},
     "output_type": "execute_result"
    }
   ],
   "source": [
    "temp2.dtypes"
   ]
  },
  {
   "cell_type": "code",
   "execution_count": null,
   "metadata": {},
   "outputs": [],
   "source": []
  },
  {
   "cell_type": "markdown",
   "metadata": {},
   "source": [
    "We need to create an arbitrary zero column to subtract from pace in order to make pace a timedelta."
   ]
  },
  {
   "cell_type": "code",
   "execution_count": 107,
   "metadata": {},
   "outputs": [
    {
     "data": {
      "text/html": [
       "<div>\n",
       "<style scoped>\n",
       "    .dataframe tbody tr th:only-of-type {\n",
       "        vertical-align: middle;\n",
       "    }\n",
       "\n",
       "    .dataframe tbody tr th {\n",
       "        vertical-align: top;\n",
       "    }\n",
       "\n",
       "    .dataframe thead th {\n",
       "        text-align: right;\n",
       "    }\n",
       "</style>\n",
       "<table border=\"1\" class=\"dataframe\">\n",
       "  <thead>\n",
       "    <tr style=\"text-align: right;\">\n",
       "      <th></th>\n",
       "      <th>bib</th>\n",
       "      <th>name</th>\n",
       "      <th>race</th>\n",
       "      <th>division</th>\n",
       "      <th>city</th>\n",
       "      <th>state</th>\n",
       "      <th>chip_time</th>\n",
       "      <th>gun_time</th>\n",
       "      <th>pace</th>\n",
       "      <th>overall_place</th>\n",
       "      <th>gender_place</th>\n",
       "      <th>division_place</th>\n",
       "      <th>diff_time</th>\n",
       "      <th>zero</th>\n",
       "    </tr>\n",
       "  </thead>\n",
       "  <tbody>\n",
       "    <tr>\n",
       "      <td>0</td>\n",
       "      <td>507</td>\n",
       "      <td>Joshua Frei</td>\n",
       "      <td>5k</td>\n",
       "      <td>M top-fin</td>\n",
       "      <td>Rochester</td>\n",
       "      <td>MN</td>\n",
       "      <td>00:17:27</td>\n",
       "      <td>00:17:27</td>\n",
       "      <td>5:37</td>\n",
       "      <td>1 of 781</td>\n",
       "      <td>1 of 346</td>\n",
       "      <td>1 of 1</td>\n",
       "      <td>00:00:00</td>\n",
       "      <td>00:00</td>\n",
       "    </tr>\n",
       "    <tr>\n",
       "      <td>1</td>\n",
       "      <td>781</td>\n",
       "      <td>Wesley Porter</td>\n",
       "      <td>5k</td>\n",
       "      <td>M 20-29</td>\n",
       "      <td>Orem</td>\n",
       "      <td>UT</td>\n",
       "      <td>00:17:30</td>\n",
       "      <td>00:17:33</td>\n",
       "      <td>5:39</td>\n",
       "      <td>2 of 781</td>\n",
       "      <td>2 of 346</td>\n",
       "      <td>1 of 160</td>\n",
       "      <td>00:00:03</td>\n",
       "      <td>00:00</td>\n",
       "    </tr>\n",
       "    <tr>\n",
       "      <td>2</td>\n",
       "      <td>441</td>\n",
       "      <td>Jeffrey Coombs</td>\n",
       "      <td>5k</td>\n",
       "      <td>M 20-29</td>\n",
       "      <td>Provo</td>\n",
       "      <td>UT</td>\n",
       "      <td>00:17:34</td>\n",
       "      <td>00:17:36</td>\n",
       "      <td>5:40</td>\n",
       "      <td>3 of 781</td>\n",
       "      <td>3 of 346</td>\n",
       "      <td>2 of 160</td>\n",
       "      <td>00:00:02</td>\n",
       "      <td>00:00</td>\n",
       "    </tr>\n",
       "    <tr>\n",
       "      <td>3</td>\n",
       "      <td>442</td>\n",
       "      <td>John Coombs</td>\n",
       "      <td>5k</td>\n",
       "      <td>M 20-29</td>\n",
       "      <td>Rifle</td>\n",
       "      <td>CO</td>\n",
       "      <td>00:18:07</td>\n",
       "      <td>00:18:09</td>\n",
       "      <td>5:51</td>\n",
       "      <td>4 of 781</td>\n",
       "      <td>4 of 346</td>\n",
       "      <td>3 of 160</td>\n",
       "      <td>00:00:02</td>\n",
       "      <td>00:00</td>\n",
       "    </tr>\n",
       "    <tr>\n",
       "      <td>4</td>\n",
       "      <td>1074</td>\n",
       "      <td>Brian Grover</td>\n",
       "      <td>5k</td>\n",
       "      <td>M 20-29</td>\n",
       "      <td>Provo</td>\n",
       "      <td>UT</td>\n",
       "      <td>00:18:09</td>\n",
       "      <td>00:18:11</td>\n",
       "      <td>5:51</td>\n",
       "      <td>5 of 781</td>\n",
       "      <td>5 of 346</td>\n",
       "      <td>4 of 160</td>\n",
       "      <td>00:00:02</td>\n",
       "      <td>00:00</td>\n",
       "    </tr>\n",
       "  </tbody>\n",
       "</table>\n",
       "</div>"
      ],
      "text/plain": [
       "    bib              name race     division       city state chip_time  \\\n",
       "0   507      Joshua Frei    5k  M top-fin    Rochester    MN  00:17:27   \n",
       "1   781    Wesley Porter    5k    M 20-29         Orem    UT  00:17:30   \n",
       "2   441   Jeffrey Coombs    5k    M 20-29        Provo    UT  00:17:34   \n",
       "3   442      John Coombs    5k    M 20-29        Rifle    CO  00:18:07   \n",
       "4  1074     Brian Grover    5k    M 20-29        Provo    UT  00:18:09   \n",
       "\n",
       "   gun_time  pace overall_place gender_place division_place diff_time   zero  \n",
       "0  00:17:27  5:37      1 of 781     1 of 346         1 of 1  00:00:00  00:00  \n",
       "1  00:17:33  5:39      2 of 781     2 of 346       1 of 160  00:00:03  00:00  \n",
       "2  00:17:36  5:40      3 of 781     3 of 346       2 of 160  00:00:02  00:00  \n",
       "3  00:18:09  5:51      4 of 781     4 of 346       3 of 160  00:00:02  00:00  \n",
       "4  00:18:11  5:51      5 of 781     5 of 346       4 of 160  00:00:02  00:00  "
      ]
     },
     "execution_count": 107,
     "metadata": {},
     "output_type": "execute_result"
    }
   ],
   "source": [
    "temp2['zero'] = '00:00'\n",
    "temp2.head()"
   ]
  },
  {
   "cell_type": "code",
   "execution_count": 108,
   "metadata": {},
   "outputs": [],
   "source": [
    "# Format our columns to be datetime objects\n",
    "temp2['zero'] = pd.to_datetime(temp2['zero'],format='%M:%S')\n",
    "temp2['pace'] = pd.to_datetime(temp2['pace'],format='%M:%S')"
   ]
  },
  {
   "cell_type": "code",
   "execution_count": 109,
   "metadata": {},
   "outputs": [
    {
     "data": {
      "text/plain": [
       "bib                         int64\n",
       "name                       object\n",
       "race                       object\n",
       "division                   object\n",
       "city                       object\n",
       "state                      object\n",
       "chip_time                  object\n",
       "gun_time                   object\n",
       "pace               datetime64[ns]\n",
       "overall_place              object\n",
       "gender_place               object\n",
       "division_place             object\n",
       "diff_time         timedelta64[ns]\n",
       "zero               datetime64[ns]\n",
       "dtype: object"
      ]
     },
     "execution_count": 109,
     "metadata": {},
     "output_type": "execute_result"
    }
   ],
   "source": [
    "temp2.dtypes"
   ]
  },
  {
   "cell_type": "code",
   "execution_count": 110,
   "metadata": {},
   "outputs": [],
   "source": [
    "# Make pace into a timedelta\n",
    "temp2['pace'] = temp2['pace'] - temp2['zero']"
   ]
  },
  {
   "cell_type": "markdown",
   "metadata": {},
   "source": [
    "We cannot plot timedeltas against each other so lets convert our timedeltas into doubles, that way we can make a plot with a line of best fit."
   ]
  },
  {
   "cell_type": "code",
   "execution_count": 111,
   "metadata": {},
   "outputs": [],
   "source": [
    "temp2['x'] = temp2['diff_time'] / pd.Timedelta(seconds=1)\n",
    "temp2['y'] = temp2['pace'] / pd.Timedelta(minutes=1)"
   ]
  },
  {
   "cell_type": "markdown",
   "metadata": {},
   "source": [
    "Remove a data point before creating the plot, the outlier is too intense and doesn't make the plot helpful"
   ]
  },
  {
   "cell_type": "code",
   "execution_count": 114,
   "metadata": {},
   "outputs": [
    {
     "data": {
      "text/html": [
       "<div>\n",
       "<style scoped>\n",
       "    .dataframe tbody tr th:only-of-type {\n",
       "        vertical-align: middle;\n",
       "    }\n",
       "\n",
       "    .dataframe tbody tr th {\n",
       "        vertical-align: top;\n",
       "    }\n",
       "\n",
       "    .dataframe thead th {\n",
       "        text-align: right;\n",
       "    }\n",
       "</style>\n",
       "<table border=\"1\" class=\"dataframe\">\n",
       "  <thead>\n",
       "    <tr style=\"text-align: right;\">\n",
       "      <th></th>\n",
       "      <th>bib</th>\n",
       "      <th>name</th>\n",
       "      <th>race</th>\n",
       "      <th>division</th>\n",
       "      <th>city</th>\n",
       "      <th>state</th>\n",
       "      <th>chip_time</th>\n",
       "      <th>gun_time</th>\n",
       "      <th>pace</th>\n",
       "      <th>overall_place</th>\n",
       "      <th>gender_place</th>\n",
       "      <th>division_place</th>\n",
       "      <th>diff_time</th>\n",
       "      <th>zero</th>\n",
       "      <th>x</th>\n",
       "      <th>y</th>\n",
       "    </tr>\n",
       "  </thead>\n",
       "  <tbody>\n",
       "    <tr>\n",
       "      <td>903</td>\n",
       "      <td>1745</td>\n",
       "      <td>Matthew Christensen</td>\n",
       "      <td>10k</td>\n",
       "      <td>M 20-29</td>\n",
       "      <td>Eureka</td>\n",
       "      <td>UT</td>\n",
       "      <td>00:40:04</td>\n",
       "      <td>01:00:38</td>\n",
       "      <td>00:06:28</td>\n",
       "      <td>19 of 244</td>\n",
       "      <td>16 of 103</td>\n",
       "      <td>11 of 59</td>\n",
       "      <td>00:20:34</td>\n",
       "      <td>1900-01-01</td>\n",
       "      <td>1234.0</td>\n",
       "      <td>6.466667</td>\n",
       "    </tr>\n",
       "  </tbody>\n",
       "</table>\n",
       "</div>"
      ],
      "text/plain": [
       "      bib                   name race   division    city state chip_time  \\\n",
       "903  1745   Matthew Christensen   10k  M 20-29    Eureka    UT  00:40:04   \n",
       "\n",
       "     gun_time     pace overall_place gender_place division_place diff_time  \\\n",
       "903  01:00:38 00:06:28     19 of 244    16 of 103       11 of 59  00:20:34   \n",
       "\n",
       "          zero       x         y  \n",
       "903 1900-01-01  1234.0  6.466667  "
      ]
     },
     "execution_count": 114,
     "metadata": {},
     "output_type": "execute_result"
    }
   ],
   "source": [
    "# Lets see some of these extremes\n",
    "temp2.sort_values(by=['diff_time']).tail(1)"
   ]
  },
  {
   "cell_type": "code",
   "execution_count": 115,
   "metadata": {},
   "outputs": [
    {
     "data": {
      "text/html": [
       "<div>\n",
       "<style scoped>\n",
       "    .dataframe tbody tr th:only-of-type {\n",
       "        vertical-align: middle;\n",
       "    }\n",
       "\n",
       "    .dataframe tbody tr th {\n",
       "        vertical-align: top;\n",
       "    }\n",
       "\n",
       "    .dataframe thead th {\n",
       "        text-align: right;\n",
       "    }\n",
       "</style>\n",
       "<table border=\"1\" class=\"dataframe\">\n",
       "  <thead>\n",
       "    <tr style=\"text-align: right;\">\n",
       "      <th></th>\n",
       "      <th>bib</th>\n",
       "      <th>name</th>\n",
       "      <th>race</th>\n",
       "      <th>division</th>\n",
       "      <th>city</th>\n",
       "      <th>state</th>\n",
       "      <th>chip_time</th>\n",
       "      <th>gun_time</th>\n",
       "      <th>pace</th>\n",
       "      <th>overall_place</th>\n",
       "      <th>gender_place</th>\n",
       "      <th>division_place</th>\n",
       "      <th>diff_time</th>\n",
       "      <th>zero</th>\n",
       "      <th>x</th>\n",
       "      <th>y</th>\n",
       "    </tr>\n",
       "  </thead>\n",
       "  <tbody>\n",
       "    <tr>\n",
       "      <td>1019</td>\n",
       "      <td>733</td>\n",
       "      <td>Mitch Murphy</td>\n",
       "      <td>5k</td>\n",
       "      <td>M 20-29</td>\n",
       "      <td>Vineyard</td>\n",
       "      <td>UT</td>\n",
       "      <td>00:38:50</td>\n",
       "      <td>00:41:08</td>\n",
       "      <td>00:12:32</td>\n",
       "      <td>480 of 781</td>\n",
       "      <td>248 of 346</td>\n",
       "      <td>124 of 160</td>\n",
       "      <td>00:02:18</td>\n",
       "      <td>1900-01-01</td>\n",
       "      <td>138.0</td>\n",
       "      <td>12.533333</td>\n",
       "    </tr>\n",
       "    <tr>\n",
       "      <td>1020</td>\n",
       "      <td>734</td>\n",
       "      <td>Ashley Murphy</td>\n",
       "      <td>5k</td>\n",
       "      <td>F 20-29</td>\n",
       "      <td>Vineyard</td>\n",
       "      <td>UT</td>\n",
       "      <td>00:38:50</td>\n",
       "      <td>00:41:08</td>\n",
       "      <td>00:12:32</td>\n",
       "      <td>481 of 781</td>\n",
       "      <td>233 of 435</td>\n",
       "      <td>120 of 179</td>\n",
       "      <td>00:02:18</td>\n",
       "      <td>1900-01-01</td>\n",
       "      <td>138.0</td>\n",
       "      <td>12.533333</td>\n",
       "    </tr>\n",
       "    <tr>\n",
       "      <td>1021</td>\n",
       "      <td>504</td>\n",
       "      <td>Victor Fong</td>\n",
       "      <td>5k</td>\n",
       "      <td>M 30-39</td>\n",
       "      <td>Lehi</td>\n",
       "      <td>UT</td>\n",
       "      <td>00:55:39</td>\n",
       "      <td>00:58:04</td>\n",
       "      <td>00:17:57</td>\n",
       "      <td>716 of 781</td>\n",
       "      <td>327 of 346</td>\n",
       "      <td>44 of 46</td>\n",
       "      <td>00:02:25</td>\n",
       "      <td>1900-01-01</td>\n",
       "      <td>145.0</td>\n",
       "      <td>17.950000</td>\n",
       "    </tr>\n",
       "    <tr>\n",
       "      <td>1022</td>\n",
       "      <td>704</td>\n",
       "      <td>Kellie McMillan</td>\n",
       "      <td>5k</td>\n",
       "      <td>F 30-39</td>\n",
       "      <td>Lehi</td>\n",
       "      <td>UT</td>\n",
       "      <td>00:36:06</td>\n",
       "      <td>00:38:40</td>\n",
       "      <td>00:11:39</td>\n",
       "      <td>419 of 781</td>\n",
       "      <td>189 of 435</td>\n",
       "      <td>30 of 79</td>\n",
       "      <td>00:02:34</td>\n",
       "      <td>1900-01-01</td>\n",
       "      <td>154.0</td>\n",
       "      <td>11.650000</td>\n",
       "    </tr>\n",
       "    <tr>\n",
       "      <td>1023</td>\n",
       "      <td>703</td>\n",
       "      <td>David McMillan</td>\n",
       "      <td>5k</td>\n",
       "      <td>M 30-39</td>\n",
       "      <td>Lehi</td>\n",
       "      <td>UT</td>\n",
       "      <td>00:40:57</td>\n",
       "      <td>00:44:25</td>\n",
       "      <td>00:13:13</td>\n",
       "      <td>533 of 781</td>\n",
       "      <td>270 of 346</td>\n",
       "      <td>35 of 46</td>\n",
       "      <td>00:03:28</td>\n",
       "      <td>1900-01-01</td>\n",
       "      <td>208.0</td>\n",
       "      <td>13.216667</td>\n",
       "    </tr>\n",
       "  </tbody>\n",
       "</table>\n",
       "</div>"
      ],
      "text/plain": [
       "      bib               name race   division      city state chip_time  \\\n",
       "1019  733      Mitch Murphy    5k  M 20-29    Vineyard    UT  00:38:50   \n",
       "1020  734     Ashley Murphy    5k  F 20-29    Vineyard    UT  00:38:50   \n",
       "1021  504       Victor Fong    5k  M 30-39        Lehi    UT  00:55:39   \n",
       "1022  704   Kellie McMillan    5k  F 30-39        Lehi    UT  00:36:06   \n",
       "1023  703    David McMillan    5k  M 30-39        Lehi    UT  00:40:57   \n",
       "\n",
       "      gun_time     pace overall_place gender_place division_place diff_time  \\\n",
       "1019  00:41:08 00:12:32    480 of 781   248 of 346     124 of 160  00:02:18   \n",
       "1020  00:41:08 00:12:32    481 of 781   233 of 435     120 of 179  00:02:18   \n",
       "1021  00:58:04 00:17:57    716 of 781   327 of 346       44 of 46  00:02:25   \n",
       "1022  00:38:40 00:11:39    419 of 781   189 of 435       30 of 79  00:02:34   \n",
       "1023  00:44:25 00:13:13    533 of 781   270 of 346       35 of 46  00:03:28   \n",
       "\n",
       "           zero      x          y  \n",
       "1019 1900-01-01  138.0  12.533333  \n",
       "1020 1900-01-01  138.0  12.533333  \n",
       "1021 1900-01-01  145.0  17.950000  \n",
       "1022 1900-01-01  154.0  11.650000  \n",
       "1023 1900-01-01  208.0  13.216667  "
      ]
     },
     "execution_count": 115,
     "metadata": {},
     "output_type": "execute_result"
    }
   ],
   "source": [
    "temp2 = temp2.sort_values(by=['diff_time']).reset_index()\n",
    "temp2 = temp2.drop(columns=['index'],index=1024)\n"
   ]
  },
  {
   "cell_type": "code",
   "execution_count": 116,
   "metadata": {},
   "outputs": [
    {
     "data": {
      "text/plain": [
       "<seaborn.axisgrid.FacetGrid at 0x1a2c5bc850>"
      ]
     },
     "execution_count": 116,
     "metadata": {},
     "output_type": "execute_result"
    },
    {
     "data": {
      "image/png": "[encoded data removed]",
      "text/plain": [
       "<Figure size 360x360 with 1 Axes>"
      ]
     },
     "metadata": {
      "needs_background": "light"
     },
     "output_type": "display_data"
    }
   ],
   "source": [
    "sns.lmplot('x','y',data=temp2)"
   ]
  },
  {
   "cell_type": "markdown",
   "metadata": {},
   "source": [
    "We have our final product! At long last we are able to plot our results against each other."
   ]
  },
  {
   "cell_type": "markdown",
   "metadata": {},
   "source": [
    "# Conclusion"
   ]
  },
  {
   "cell_type": "markdown",
   "metadata": {},
   "source": [
    "Interacting with time data can be rather difficult but the results are worth it. Formatting the data correctly is essential in order to get the correct results. Datetime objects cannot interact with timedeltas correctly so an arbitrary addition or subtraction needs to occur to convert a datetime to a timedelta. Timedeltas can then be converted to integers or doubles so that you can perform an analysis on the data."
   ]
  },
  {
   "cell_type": "code",
   "execution_count": null,
   "metadata": {},
   "outputs": [],
   "source": []
  }
 ],
 "metadata": {
  "kernelspec": {
   "display_name": "Python 3",
   "language": "python",
   "name": "python3"
  },
  "language_info": {
   "codemirror_mode": {
    "name": "ipython",
    "version": 3
   },
   "file_extension": ".py",
   "mimetype": "text/x-python",
   "name": "python",
   "nbconvert_exporter": "python",
   "pygments_lexer": "ipython3",
   "version": "3.7.4"
  }
 },
 "nbformat": 4,
 "nbformat_minor": 2
}
